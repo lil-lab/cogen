{
 "cells": [
  {
   "cell_type": "code",
   "execution_count": 1,
   "id": "80bc80a4",
   "metadata": {},
   "outputs": [],
   "source": [
    "import numpy as np\n",
    "from pymongo import MongoClient"
   ]
  },
  {
   "cell_type": "code",
   "execution_count": 2,
   "id": "a9291786",
   "metadata": {},
   "outputs": [],
   "source": [
    "# Main\n",
    "mongo_url = \"fill_in\"\n",
    "myclient = MongoClient(mongo_url)\n",
    "mydb = myclient[\"TangramsCompGen\"]\n",
    "\n",
    "batch_col = mydb['batches']\n",
    "treatment_col = mydb[\"treatments\"]\n",
    "factor_types_col = mydb[\"factor_types\"]\n",
    "factors_col = mydb[\"factors\"]\n",
    "game_lobbies_col = mydb[\"game_lobbies\"]\n",
    "game_col = mydb['games']\n",
    "player_col = mydb['players']"
   ]
  },
  {
   "cell_type": "markdown",
   "id": "a90b5df8",
   "metadata": {},
   "source": [
    "## How many games have we collected (+ incompletes)"
   ]
  },
  {
   "cell_type": "code",
   "execution_count": 211,
   "id": "cd77417a",
   "metadata": {},
   "outputs": [],
   "source": [
    "completes = []\n",
    "incompletes = []\n",
    "running_games = []\n",
    "\n",
    "# 1\n",
    "total_complete = 0\n",
    "total_idle = 0\n",
    "\n",
    "batch_1 = batch_col.find({'index' : 191})[0]['_id']\n",
    "games = game_col.find({'batchId' : batch_1})\n",
    "for game in games:\n",
    "    if game['status'] == 'finished':\n",
    "        total_complete += 1\n",
    "        completes.append(game['data']['configFile'])\n",
    "    elif game['status'] == 'running':\n",
    "        running_games.append(game['data']['configFile'])\n",
    "    else:\n",
    "        incompletes.append(game['data']['configFile'])"
   ]
  },
  {
   "cell_type": "code",
   "execution_count": 212,
   "id": "3a1fad38",
   "metadata": {},
   "outputs": [
    {
     "name": "stdout",
     "output_type": "stream",
     "text": [
      "We have completed 110 games\n",
      "We have to repeat 0 games\n"
     ]
    }
   ],
   "source": [
    "print(f\"We have completed {total_complete} games\")\n",
    "print(f\"We have to repeat {len(incompletes)} games\")"
   ]
  },
  {
   "cell_type": "code",
   "execution_count": 213,
   "id": "d0aa55fe",
   "metadata": {},
   "outputs": [
    {
     "name": "stdout",
     "output_type": "stream",
     "text": [
      "0\n"
     ]
    }
   ],
   "source": [
    "print(len(running_games))"
   ]
  },
  {
   "cell_type": "code",
   "execution_count": 214,
   "id": "4c2d0afb",
   "metadata": {},
   "outputs": [
    {
     "data": {
      "text/plain": [
       "[]"
      ]
     },
     "execution_count": 214,
     "metadata": {},
     "output_type": "execute_result"
    }
   ],
   "source": [
    "running_games"
   ]
  },
  {
   "cell_type": "code",
   "execution_count": 108,
   "id": "e40e0183",
   "metadata": {},
   "outputs": [
    {
     "data": {
      "text/plain": [
       "[]"
      ]
     },
     "execution_count": 108,
     "metadata": {},
     "output_type": "execute_result"
    }
   ],
   "source": [
    "incompletes"
   ]
  },
  {
   "cell_type": "code",
   "execution_count": 61,
   "id": "4a897b4b",
   "metadata": {},
   "outputs": [
    {
     "data": {
      "text/plain": [
       "[]"
      ]
     },
     "execution_count": 61,
     "metadata": {},
     "output_type": "execute_result"
    }
   ],
   "source": [
    "completes"
   ]
  }
 ],
 "metadata": {
  "kernelspec": {
   "display_name": "Python 3 (ipykernel)",
   "language": "python",
   "name": "python3"
  },
  "language_info": {
   "codemirror_mode": {
    "name": "ipython",
    "version": 3
   },
   "file_extension": ".py",
   "mimetype": "text/x-python",
   "name": "python",
   "nbconvert_exporter": "python",
   "pygments_lexer": "ipython3",
   "version": "3.10.14"
  }
 },
 "nbformat": 4,
 "nbformat_minor": 5
}
