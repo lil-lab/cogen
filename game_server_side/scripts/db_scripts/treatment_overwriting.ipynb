{
 "cells": [
  {
   "cell_type": "markdown",
   "id": "05a8047e",
   "metadata": {},
   "source": [
    "## Load the relevant collections"
   ]
  },
  {
   "cell_type": "code",
   "execution_count": 1,
   "id": "c4917dd4",
   "metadata": {},
   "outputs": [],
   "source": [
    "import numpy as np\n",
    "from pymongo import MongoClient\n",
    "import os\n",
    "import pickle"
   ]
  },
  {
   "cell_type": "code",
   "execution_count": 2,
   "id": "964ab322",
   "metadata": {},
   "outputs": [],
   "source": [
    "# Main\n",
    "mongo_url = \"fill_in\"\n",
    "myclient = MongoClient(mongo_url)\n",
    "mydb = myclient[\"TangramsCompGen\"]\n",
    "\n",
    "treatment_col = mydb[\"treatments\"]\n",
    "factor_types_col = mydb[\"factor_types\"]\n",
    "factors_col = mydb[\"factors\"]\n",
    "game_lobbies_col = mydb[\"game_lobbies\"]"
   ]
  },
  {
   "cell_type": "markdown",
   "id": "c1246974",
   "metadata": {},
   "source": [
    "## Key util"
   ]
  },
  {
   "cell_type": "code",
   "execution_count": 3,
   "id": "0f571eff",
   "metadata": {},
   "outputs": [],
   "source": [
    "import string\n",
    "import random\n",
    "\n",
    "def random_string():\n",
    "    selections = \"23456789ABCDEFGHJKLMNPQRSTWXYZabcdefghijkmnopqrstuvwxyz\"\n",
    "    new_string = \"\"\n",
    "    \n",
    "    for i in range(17):\n",
    "        new_string += random.sample(selections, 1)[0]\n",
    "        \n",
    "    return new_string"
   ]
  },
  {
   "cell_type": "code",
   "execution_count": 4,
   "id": "5778bcdc",
   "metadata": {},
   "outputs": [],
   "source": [
    "treatments = [\"baseline\", \"full\", \"no_ji\", 'no_ds']"
   ]
  },
  {
   "cell_type": "markdown",
   "id": "5aa29042",
   "metadata": {},
   "source": [
    "## One-time Use"
   ]
  },
  {
   "cell_type": "code",
   "execution_count": 5,
   "id": "065d32cd",
   "metadata": {},
   "outputs": [],
   "source": [
    "\n",
    "def add_numeric_factor_values(factor_type_name, value_range):\n",
    "    # Get the id of the factor type\n",
    "    factor_type_id = factor_types_col.find({\"name\" : factor_type_name})[0][\"_id\"]\n",
    "    \n",
    "    # Iterate over each value in the range\n",
    "    for i in range(value_range[0], value_range[1]):\n",
    "        str_i = str(i)\n",
    "        new_factor = {\n",
    "            \"_id\" : random_string(),\n",
    "            \"name\" : f\"game_{i}\",\n",
    "            \"value\" : str_i,\n",
    "            \"factorTypeId\" : factor_type_id\n",
    "        }\n",
    "        \n",
    "        factors_col.insert_one(new_factor)\n",
    "        \n",
    "def delete_numeric_factor_values(value_range):\n",
    "    for i in range(value_range[0], value_range[1]):\n",
    "        target = {\"name\" : f\"game_{i}\"}\n",
    "        factors_col.delete_one(target)\n",
    "        \n",
    "add_numeric_factor_values(\"gameNum\", [500, 700])"
   ]
  },
  {
   "cell_type": "code",
   "execution_count": 4,
   "id": "e4c916eb",
   "metadata": {},
   "outputs": [],
   "source": [
    "def add_botIP_treatment_and_values(treatment_names, dummy_value):\n",
    "    for treatment in treatment_names:\n",
    "        # First create the relevant factor type\n",
    "        new_factor_type = {\n",
    "            '_id' : random_string(),\n",
    "            \"name\" : f'{treatment}_IP',\n",
    "            'description' : f\"IP for treatment {treatment}\",\n",
    "            \"required\" : False,\n",
    "            \"type\" : \"String\",\n",
    "            \"min\" : 0,\n",
    "            \"max\" : 1000000\n",
    "        }\n",
    "        factor_types_col.insert_one(new_factor_type)\n",
    "        \n",
    "        # Next create the relevant factor\n",
    "        factor_type_id = factor_types_col.find({'name' : f'{treatment}_IP'})[0][\"_id\"]\n",
    "        new_factor = {\n",
    "            '_id' : random_string(),\n",
    "            \"name\" : \"IP\",\n",
    "            \"value\" : dummy_value,\n",
    "            \"factorTypeId\" : factor_type_id\n",
    "        }\n",
    "        factors_col.insert_one(new_factor)\n",
    "        \n",
    "treatments = ['old_full']\n",
    "add_botIP_treatment_and_values(treatments, 'localhost')"
   ]
  },
  {
   "cell_type": "markdown",
   "id": "e5bdd87b",
   "metadata": {},
   "source": [
    "## Overwriting Bot IPs to be different"
   ]
  },
  {
   "cell_type": "code",
   "execution_count": 7,
   "id": "a10fe2a7",
   "metadata": {},
   "outputs": [],
   "source": [
    "def overwrite_botIP_values(treatment_to_IP):\n",
    "    for treatment, IP in treatment_to_IP.items():\n",
    "        factor_type_id = factor_types_col.find({'name' : f'{treatment}_IP'})[0][\"_id\"]\n",
    "        factor_filter = {\"name\" : \"IP\", 'factorTypeId' : factor_type_id}\n",
    "        update_values = {\n",
    "            \"$set\" : {\"value\" : IP}\n",
    "        }\n",
    "        factors_col.update_one(factor_filter, update_values)\n",
    "\n",
    "treatment_to_IP = {\n",
    "    \"full\" : 'https://e03784040fca.ngrok.app',\n",
    "    \"no_ds\" : 'https://e03784040fca.ngrok.app',\n",
    "    \"baseline\" : 'https://3e7676ef8571.ngrok.app',\n",
    "    \"no_ji\" : 'https://3e7676ef8571.ngrok.app',\n",
    "    'old_full' : 'https://e03784040fca.ngrok.app',\n",
    "}\n",
    "\n",
    "overwrite_botIP_values(treatment_to_IP)"
   ]
  },
  {
   "cell_type": "markdown",
   "id": "7c2e0a8c",
   "metadata": {},
   "source": [
    "## Creating factor values for new experiment/round"
   ]
  },
  {
   "cell_type": "code",
   "execution_count": 6,
   "id": "6dbc64cd",
   "metadata": {},
   "outputs": [],
   "source": [
    "def add_experiment_values(factor_type_name, treatment_names, round_number):\n",
    "    # Get the id of the factor type\n",
    "    factor_type_id = factor_types_col.find({\"name\" : factor_type_name})[0][\"_id\"]\n",
    "    \n",
    "    for treatment_name in treatment_names:\n",
    "        new_factor = {\n",
    "            \"_id\" : random_string(),\n",
    "            \"name\" : f\"r{round_number}_{treatment_name}\",\n",
    "            \"value\" : f\"r{round_number}_{treatment_name}\",\n",
    "            \"factorTypeId\" : factor_type_id\n",
    "        }\n",
    "        factors_col.insert_one(new_factor)\n",
    "        \n",
    "treatments = ['human_model', 'human_human']\n",
    "add_experiment_values(\"experimentName\", treatments, 4)"
   ]
  },
  {
   "cell_type": "code",
   "execution_count": 7,
   "id": "8119e93e",
   "metadata": {},
   "outputs": [],
   "source": [
    "def add_annotation_value(factor_type_name, annotation):\n",
    "    # Get the id of the factor type\n",
    "    factor_type_id = factor_types_col.find({\"name\" : factor_type_name})[0][\"_id\"]\n",
    "    new_factor = {\n",
    "        \"_id\" : random_string(),\n",
    "        \"name\" : annotation,\n",
    "        \"value\" : annotation,\n",
    "        \"factorTypeId\" : factor_type_id\n",
    "    }\n",
    "    factors_col.insert_one(new_factor)\n",
    "        \n",
    "add_annotation_value(\"annotation\", \"may_17\")"
   ]
  },
  {
   "cell_type": "markdown",
   "id": "6b586519",
   "metadata": {},
   "source": [
    "## Creating treatments and overwriting batches for new round"
   ]
  },
  {
   "cell_type": "code",
   "execution_count": 8,
   "id": "53eee90d",
   "metadata": {},
   "outputs": [],
   "source": [
    "# Create treatments\n",
    "ft_to_id = {}\n",
    "factor_types = ['teamColor', 'playerCount', 'experimentName', 'roundNum', 'numConfigs', 'selectionDuration', \n",
    "                'multiRound',  'botTreatment', 'botsCount', 'botIP', 'annotation', 'gameNum', 'full_IP', 'no_ji_IP', \n",
    "                'no_ds_IP', 'baseline_IP', 'old_full_IP']\n",
    "for factor_type in factor_types:\n",
    "    ft_to_id[factor_type] = factor_types_col.find({\"name\" : factor_type})[0][\"_id\"]\n",
    "\n",
    "ft_to_default = {\n",
    "    'playerCount' : \"duo\",\n",
    "    \"teamColor\" : \"blue\",\n",
    "    \"selectionDuration\" : \"45\",\n",
    "    \"multiRound\" : \"false\",\n",
    "    \"roundNum\" : \"0\",\n",
    "    \"numConfigs\" : \"0\",\n",
    "    'full_IP' : 'IP',\n",
    "    'no_ji_IP' : 'IP',\n",
    "    'no_ds_IP' : 'IP',\n",
    "    'baseline_IP' : 'IP',\n",
    "    'old_full_IP' : 'IP',\n",
    "    'botIP' : 'localhost',\n",
    "    'botTreatment' : 'none',\n",
    "}\n",
    "\n",
    "def create_game_treatments(ft_to_default, treatments, round_number, start_value, end_value, annotation):\n",
    "    for treatment in treatments:\n",
    "        ft_to_non_default = {\n",
    "            'experimentName' : f\"r{round_number}_{treatment}\",\n",
    "            \"annotation\" : annotation,\n",
    "        }\n",
    "        if treatment == \"human_human\":\n",
    "            ft_to_non_default['botsCount'] = \"zero\"\n",
    "        else:\n",
    "            ft_to_non_default['botsCount'] = \"one\"\n",
    "            \n",
    "        for i in range(start_value, end_value):\n",
    "            factor_ids = []\n",
    "            for factor_type in factor_types:\n",
    "                if factor_type in ft_to_default:\n",
    "                    factor_name = ft_to_default[factor_type]\n",
    "                elif factor_type in ft_to_non_default:\n",
    "                    factor_name = ft_to_non_default[factor_type]\n",
    "                else:\n",
    "                    factor_name = f\"game_{i}\"\n",
    "                    \n",
    "                factor_ids.append(factors_col.find({\n",
    "                    \"factorTypeId\" : ft_to_id[factor_type],\n",
    "                    \"name\" : factor_name,\n",
    "                })[0][\"_id\"])\n",
    "                \n",
    "            new_treatment = {\n",
    "                \"_id\" : random_string(),\n",
    "                \"name\" : ft_to_non_default[\"experimentName\"] + f\"_game_{i}\",\n",
    "                \"factorIds\" : factor_ids\n",
    "            }\n",
    "            \n",
    "            treatment_col.insert_one(new_treatment)\n",
    "                \n",
    "round_idx = 4\n",
    "annotation = 'may_17'\n",
    "treatments = ['human_human']\n",
    "start_value = 0\n",
    "end_value = 70\n",
    "create_game_treatments(ft_to_default, treatments, round_idx, start_value, end_value, annotation)\n",
    "\n",
    "treatments = ['human_model']\n",
    "start_value = 0\n",
    "end_value = 700\n",
    "create_game_treatments(ft_to_default, treatments, round_idx, start_value, end_value, annotation)"
   ]
  },
  {
   "cell_type": "code",
   "execution_count": 5,
   "id": "b6287f44",
   "metadata": {},
   "outputs": [],
   "source": [
    "# Overwrite treatments in batches\n",
    "def overwrite_treatments(batch_index, treatments, round_id, start_value):\n",
    "    batch_id = mydb[\"batches\"].find({\"index\" : batch_index})[0][\"_id\"]\n",
    "    for treatment in treatments:\n",
    "        dummy_name = f\"dummy_{treatment}\"\n",
    "        original_treatment_id = treatment_col.find({\"name\" : dummy_name})[0][\"_id\"]\n",
    "        \n",
    "        all_matching_lobbies = game_lobbies_col.find(\n",
    "            {\n",
    "                \"batchId\" : batch_id, \n",
    "                \"treatmentId\" : original_treatment_id\n",
    "            }\n",
    "        )\n",
    "        \n",
    "        for i, curr_lobby in enumerate(all_matching_lobbies):\n",
    "            new_treatment_name = f\"r{round_id}_{treatment}_game_{start_value + i}\"\n",
    "            new_treatment_id = treatment_col.find({\"name\" : new_treatment_name})[0][\"_id\"]\n",
    "\n",
    "            target = {\"_id\" : curr_lobby[\"_id\"]}\n",
    "            update_values = {\"$set\" : {\"treatmentId\" : new_treatment_id}}\n",
    "            game_lobbies_col.update_one(target, update_values)\n",
    "            \n",
    "def delete_treatments(treatments, round_id, num_games):\n",
    "    for treatment in treatments:\n",
    "        for i in range(num_games):\n",
    "            target = {\"name\" : f\"r{round_id}_{treatment}_game_{i}\"}\n",
    "            treatment_col.delete_one(target)"
   ]
  },
  {
   "cell_type": "code",
   "execution_count": 8,
   "id": "828adfc1",
   "metadata": {},
   "outputs": [],
   "source": [
    "round_idx = 4\n",
    "\n",
    "treatments = ['human_human']\n",
    "start_value = 60\n",
    "overwrite_treatments(191, treatments, round_idx, start_value)\n",
    "\n",
    "treatments = ['human_model']\n",
    "start_value = 600\n",
    "overwrite_treatments(191, treatments, round_idx, start_value)"
   ]
  },
  {
   "cell_type": "code",
   "execution_count": 10,
   "id": "28143e06",
   "metadata": {},
   "outputs": [],
   "source": [
    "treatments = ['human', 'full', 'no_ji', 'no_ps', 'no_ds', 'baseline']\n",
    "delete_treatments(treatments, 2, 100)"
   ]
  },
  {
   "cell_type": "markdown",
   "id": "695527ec",
   "metadata": {},
   "source": [
    "## More targeted overwriting"
   ]
  },
  {
   "cell_type": "code",
   "execution_count": 13,
   "id": "1b85d3b6",
   "metadata": {},
   "outputs": [
    {
     "name": "stdout",
     "output_type": "stream",
     "text": [
      "Treatment human_model: 22 games remaining\n",
      "human_model 229\n",
      "human_model 174\n",
      "human_model 156\n",
      "human_model 205\n",
      "human_model 209\n",
      "human_model 170\n",
      "human_model 128\n",
      "human_model 101\n",
      "human_model 249\n",
      "human_model 252\n",
      "human_model 122\n",
      "human_model 233\n",
      "human_model 226\n",
      "human_model 148\n",
      "human_model 206\n",
      "human_model 127\n",
      "human_model 223\n",
      "human_model 293\n",
      "human_model 291\n",
      "human_model 266\n",
      "human_model 319\n",
      "human_model 303\n"
     ]
    }
   ],
   "source": [
    "# Load the games we are interested in overwriting\n",
    "filepath = os.path.join('post_mortems', 'may_17_incompletes.pkl')\n",
    "with open(filepath, 'rb') as f:\n",
    "    new_data = pickle.load(f)\n",
    "    \n",
    "filepath = os.path.join('post_mortems', 'may_20_incompletes.pkl')\n",
    "with open(filepath, 'rb') as f:\n",
    "    new_data = new_data + pickle.load(f)\n",
    "\n",
    "treatment_to_games = {}\n",
    "for config_path in new_data:\n",
    "    components = config_path[:-5].split('/')\n",
    "    treatment = components[-2][3:]\n",
    "\n",
    "    if treatment == \"human_human\":\n",
    "        continue\n",
    "\n",
    "    if treatment not in treatment_to_games:\n",
    "        treatment_to_games[treatment] = []\n",
    "\n",
    "    game_num = int(components[-1].split('_')[-1])\n",
    "    treatment_to_games[treatment].append(game_num)\n",
    "\n",
    "for treatment, games in treatment_to_games.items():\n",
    "    print(f\"Treatment {treatment}: {len(games)} games remaining\")\n",
    "    for game in games:\n",
    "        print(treatment, game)"
   ]
  },
  {
   "cell_type": "code",
   "execution_count": 14,
   "id": "a7893773",
   "metadata": {},
   "outputs": [],
   "source": [
    "def overwrite_targeted_treatments(batch_index, treatment_dict, round_id):\n",
    "    batch_id = mydb[\"batches\"].find({\"index\" : batch_index})[0][\"_id\"]\n",
    "    for treatment, treatment_games in treatment_dict.items():\n",
    "        dummy_name = f\"dummy_{treatment}\"\n",
    "        original_treatment_id = treatment_col.find({\"name\" : dummy_name})[0][\"_id\"]\n",
    "        \n",
    "        all_matching_lobbies = game_lobbies_col.find(\n",
    "            {\n",
    "                \"batchId\" : batch_id, \n",
    "                \"treatmentId\" : original_treatment_id\n",
    "            }\n",
    "        )\n",
    "        \n",
    "        for i, curr_lobby in enumerate(all_matching_lobbies):\n",
    "            if i >= len(treatment_games):\n",
    "                break\n",
    "\n",
    "            game_value = treatment_games[i]\n",
    "            new_treatment_name = f\"r{round_id}_{treatment}_game_{game_value}\"\n",
    "            new_treatment_id = treatment_col.find({\"name\" : new_treatment_name})[0][\"_id\"]\n",
    "\n",
    "            target = {\"_id\" : curr_lobby[\"_id\"]}\n",
    "            update_values = {\"$set\" : {\"treatmentId\" : new_treatment_id}}\n",
    "            game_lobbies_col.update_one(target, update_values)\n",
    "            \n",
    "overwrite_targeted_treatments(189, treatment_to_games, 4)"
   ]
  },
  {
   "cell_type": "code",
   "execution_count": 11,
   "id": "1be8e8c0",
   "metadata": {},
   "outputs": [
    {
     "data": {
      "text/plain": [
       "125"
      ]
     },
     "execution_count": 11,
     "metadata": {},
     "output_type": "execute_result"
    }
   ],
   "source": []
  },
  {
   "cell_type": "code",
   "execution_count": 12,
   "id": "441451e7",
   "metadata": {},
   "outputs": [
    {
     "data": {
      "text/plain": [
       "14.166666666666666"
      ]
     },
     "execution_count": 12,
     "metadata": {},
     "output_type": "execute_result"
    }
   ],
   "source": [
    "425 / 30"
   ]
  },
  {
   "cell_type": "code",
   "execution_count": null,
   "id": "ebf4263e",
   "metadata": {},
   "outputs": [],
   "source": []
  }
 ],
 "metadata": {
  "kernelspec": {
   "display_name": "Python 3 (ipykernel)",
   "language": "python",
   "name": "python3"
  },
  "language_info": {
   "codemirror_mode": {
    "name": "ipython",
    "version": 3
   },
   "file_extension": ".py",
   "mimetype": "text/x-python",
   "name": "python",
   "nbconvert_exporter": "python",
   "pygments_lexer": "ipython3",
   "version": "3.10.14"
  }
 },
 "nbformat": 4,
 "nbformat_minor": 5
}
