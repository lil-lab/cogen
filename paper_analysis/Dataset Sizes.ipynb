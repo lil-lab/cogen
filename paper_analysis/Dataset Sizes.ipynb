{
 "cells": [
  {
   "cell_type": "code",
   "execution_count": 1,
   "id": "1b01e1f2-043d-4c33-af1b-fe093bdff834",
   "metadata": {},
   "outputs": [],
   "source": [
    "import json\n",
    "import os"
   ]
  },
  {
   "cell_type": "code",
   "execution_count": 2,
   "id": "d6af1000-0b46-4a47-8b38-6b73256f6d40",
   "metadata": {},
   "outputs": [],
   "source": [
    "BASE_PATH = '/home/mog29/cogen/data_and_checkpoints/continual_learning'"
   ]
  },
  {
   "cell_type": "code",
   "execution_count": 3,
   "id": "f05c3ed2-e3ce-442b-ac38-14bdd82cc206",
   "metadata": {},
   "outputs": [
    {
     "name": "stdout",
     "output_type": "stream",
     "text": [
      "Total of 10811 human-human interactions\n"
     ]
    }
   ],
   "source": [
    "# Get the number of human datapoints\n",
    "total_human = 0\n",
    "\n",
    "human_json = os.path.join(BASE_PATH, 'analysis', 'human_human.json')\n",
    "with open(human_json, 'r') as f:\n",
    "    data = json.load(f)\n",
    "\n",
    "for game_id, game_dict in data.items():\n",
    "    total_human += len(game_dict)\n",
    "\n",
    "print(f'Total of {total_human} human-human interactions')"
   ]
  },
  {
   "cell_type": "code",
   "execution_count": 5,
   "id": "18f724d2-b7d5-4426-bce0-a4b1c11bc623",
   "metadata": {},
   "outputs": [
    {
     "name": "stdout",
     "output_type": "stream",
     "text": [
      "Total of listener (bot) rounds: 39943; speaker rounds: 39993\n"
     ]
    }
   ],
   "source": [
    "# Get the number of human-model datapoints\n",
    "total_listener = 0\n",
    "total_speaker = 0\n",
    "\n",
    "TREATMENTS = ['full', 'no_ds', 'no_ji', 'baseline']\n",
    "\n",
    "for treatment in TREATMENTS:\n",
    "    start_idx = 1 if treatment in ['full', 'no_ji'] else 2\n",
    "    suffixes = ['all'] if treatment in ['full', 'no_ji'] else ['listener', 'speaker']\n",
    "\n",
    "    for i in range(start_idx, 5):\n",
    "        for suffix in suffixes:\n",
    "            model_json = os.path.join(BASE_PATH, f'cl_r{i}_{treatment}_{suffix}.json')\n",
    "            with open(model_json, 'r') as f:\n",
    "                model_data = json.load(f)\n",
    "\n",
    "            for game_id, game_dict in model_data.items():\n",
    "                if 'speaker' in game_id:\n",
    "                    total_speaker += len(game_dict)\n",
    "                else:\n",
    "                    total_listener += len(game_dict)\n",
    "\n",
    "print(f'Total of listener (bot) rounds: {total_listener}; speaker rounds: {total_speaker}')\n",
    "    "
   ]
  },
  {
   "cell_type": "code",
   "execution_count": 6,
   "id": "aa83a137-d131-43d1-bdb5-3354b9771e59",
   "metadata": {},
   "outputs": [
    {
     "data": {
      "text/plain": [
       "43443"
      ]
     },
     "execution_count": 6,
     "metadata": {},
     "output_type": "execute_result"
    }
   ],
   "source": [
    "39943 + 3500"
   ]
  },
  {
   "cell_type": "code",
   "execution_count": 7,
   "id": "27abd023-32f1-41a2-931a-a5995afb10eb",
   "metadata": {},
   "outputs": [
    {
     "data": {
      "text/plain": [
       "43493"
      ]
     },
     "execution_count": 7,
     "metadata": {},
     "output_type": "execute_result"
    }
   ],
   "source": [
    "39993 + 3500"
   ]
  },
  {
   "cell_type": "code",
   "execution_count": null,
   "id": "709b0d72-4696-40b8-8d58-6896f5314b49",
   "metadata": {},
   "outputs": [],
   "source": []
  }
 ],
 "metadata": {
  "kernelspec": {
   "display_name": "Python 3 (ipykernel)",
   "language": "python",
   "name": "python3"
  },
  "language_info": {
   "codemirror_mode": {
    "name": "ipython",
    "version": 3
   },
   "file_extension": ".py",
   "mimetype": "text/x-python",
   "name": "python",
   "nbconvert_exporter": "python",
   "pygments_lexer": "ipython3",
   "version": "3.10.14"
  }
 },
 "nbformat": 4,
 "nbformat_minor": 5
}
